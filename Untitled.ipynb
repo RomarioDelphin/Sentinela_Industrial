{
 "cells": [
  {
   "cell_type": "code",
   "execution_count": null,
   "id": "2ba0bdad-fae9-44e7-a4da-3d38317e6b7a",
   "metadata": {},
   "outputs": [],
   "source": []
  }
 ],
 "metadata": {
  "kernelspec": {
   "display_name": "",
   "name": ""
  },
  "language_info": {
   "name": ""
  }
 },
 "nbformat": 4,
 "nbformat_minor": 5
}
